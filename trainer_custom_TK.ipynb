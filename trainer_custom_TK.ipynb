{
 "cells": [
  {
   "cell_type": "code",
   "execution_count": 1,
   "metadata": {},
   "outputs": [],
   "source": [
    "import transformers\n",
    "from script.tokenizer import KmerTokenizer\n",
    "\n",
    "import evaluate\n",
    "import pandas as pd\n",
    "from tqdm import tqdm\n",
    "\n",
    "import argparse\n",
    "import os\n",
    "import csv\n",
    "import sys\n",
    "import numpy as np\n",
    "import pandas as pd\n",
    "import seaborn as sns\n",
    "import matplotlib.pyplot as plt\n",
    "from tqdm import tqdm\n",
    "import json\n",
    "import random\n",
    "import re\n",
    "\n",
    "import pandas as pd\n",
    "import re\n",
    "import pandas as pd\n",
    "from transformers import BertTokenizer, BertForSequenceClassification, PreTrainedTokenizerFast, LineByLineTextDataset, BertConfig, AutoTokenizer, pipeline\n",
    "from transformers import Trainer, TrainingArguments, DataCollatorWithPadding, AutoModelForSequenceClassification, TrainingArguments, Trainer\n",
    "import torch\n",
    "\n",
    "from sklearn.preprocessing import LabelEncoder\n",
    "import numpy as np\n",
    "from datasets import Dataset\n",
    "import os"
   ]
  },
  {
   "cell_type": "code",
   "execution_count": 2,
   "metadata": {},
   "outputs": [
    {
     "data": {
      "text/plain": [
       "(0, device(type='cuda'))"
      ]
     },
     "execution_count": 2,
     "metadata": {},
     "output_type": "execute_result"
    }
   ],
   "source": [
    "device = torch.device('cuda' if torch.cuda.is_available() else 'cpu')\n",
    "torch.cuda.current_device(), device"
   ]
  },
  {
   "cell_type": "markdown",
   "metadata": {},
   "source": [
    "# data"
   ]
  },
  {
   "cell_type": "code",
   "execution_count": 3,
   "metadata": {},
   "outputs": [],
   "source": [
    "train_df = pd.read_csv('Data/TeleoSplit/train_aug_nodupl_300.csv')\n",
    "val_df = pd.read_csv('Data/TeleoSplit/val_genera.csv')\n",
    "test_df = pd.read_csv('Data/TeleoSplit/test_genera.csv')"
   ]
  },
  {
   "cell_type": "markdown",
   "metadata": {},
   "source": [
    "# model\n"
   ]
  },
  {
   "cell_type": "code",
   "execution_count": 13,
   "metadata": {},
   "outputs": [],
   "source": [
    "tokeN=KmerTokenizer(3, trust_remote_code=True,add_special_tokens=True)"
   ]
  },
  {
   "cell_type": "code",
   "execution_count": 14,
   "metadata": {},
   "outputs": [],
   "source": [
    "train_encodings = tokeN(train_df['sequence'].tolist(), truncation=True, max_length=512)\n",
    "val_encodings = tokeN(val_df['sequence'].tolist(), truncation=True, max_length=512)\n",
    "test_encodings = tokeN(test_df['sequence'].tolist(), truncation=True, max_length=512)"
   ]
  },
  {
   "cell_type": "code",
   "execution_count": 6,
   "metadata": {},
   "outputs": [],
   "source": [
    "# Initialize the label encoder\n",
    "label_encoder = LabelEncoder()\n",
    "\n",
    "# Fit the label encoder on the combined data\n",
    "label_encoder.fit(pd.concat([train_df['family'], val_df['family']]))\n",
    "\n",
    "# Encode the labels\n",
    "train_labels = label_encoder.transform(train_df['family'])\n",
    "val_labels = label_encoder.transform(val_df['family'])"
   ]
  },
  {
   "cell_type": "code",
   "execution_count": 7,
   "metadata": {},
   "outputs": [],
   "source": [
    "train_dataset = Dataset.from_dict({\n",
    "    'input_ids': train_encodings['input_ids'],\n",
    "    'attention_mask': train_encodings['attention_mask'],\n",
    "    'labels': train_labels\n",
    "})\n",
    "\n",
    "val_dataset = Dataset.from_dict({\n",
    "    'input_ids': val_encodings['input_ids'],\n",
    "    'attention_mask': val_encodings['attention_mask'],\n",
    "    'labels': val_labels\n",
    "})\n",
    "\n",
    "test_dataset = Dataset.from_dict({\n",
    "    'input_ids': test_encodings['input_ids'],\n",
    "    'attention_mask': test_encodings['attention_mask'],\n",
    "    'labels': label_encoder.transform(test_df['family'])\n",
    "})"
   ]
  },
  {
   "cell_type": "code",
   "execution_count": 8,
   "metadata": {},
   "outputs": [],
   "source": [
    "# Create dictionnaries for the class labels\n",
    "id2label = {i: label for i, label in enumerate(label_encoder.classes_)}\n",
    "label2id = {label: i for i, label in enumerate(label_encoder.classes_)}"
   ]
  },
  {
   "cell_type": "code",
   "execution_count": 9,
   "metadata": {},
   "outputs": [],
   "source": [
    "data_collator = DataCollatorWithPadding(tokenizer=tokeN)"
   ]
  },
  {
   "cell_type": "markdown",
   "metadata": {},
   "source": [
    "# Train"
   ]
  },
  {
   "cell_type": "code",
   "execution_count": 10,
   "metadata": {},
   "outputs": [
    {
     "name": "stderr",
     "output_type": "stream",
     "text": [
      "C:\\Users\\Auguste Verdier\\.cache\\huggingface\\modules\\transformers_modules\\zhihan1996\\DNABERT-2-117M\\d064dece8a8b41d9fb8729fbe3435278786931f1\\bert_layers.py:129: UserWarning: Unable to import Triton; defaulting MosaicBERT attention implementation to pytorch (this will reduce throughput when using this model).\n",
      "  warnings.warn(\n",
      "Some weights of BertForSequenceClassification were not initialized from the model checkpoint at zhihan1996/DNABERT-2-117M and are newly initialized: ['bert.pooler.dense.bias', 'bert.pooler.dense.weight', 'classifier.bias', 'classifier.weight']\n",
      "You should probably TRAIN this model on a down-stream task to be able to use it for predictions and inference.\n"
     ]
    }
   ],
   "source": [
    "config = BertConfig.from_pretrained(\"zhihan1996/DNABERT-2-117M\", \n",
    "                                    num_labels=len(id2label), \n",
    "                                    max_position_embeddings=514,\n",
    "                                    id2label=id2label,\n",
    "                                    label2id=label2id\n",
    ")\n",
    "\n",
    "model = AutoModelForSequenceClassification.from_pretrained(\"zhihan1996/DNABERT-2-117M\", trust_remote_code=True, ignore_mismatched_sizes=True, config=config)\n",
    "\n",
    "# Verif that the model is correctly configured\n",
    "model.id2label = id2label\n",
    "model.label2id = label2id"
   ]
  },
  {
   "cell_type": "code",
   "execution_count": 11,
   "metadata": {},
   "outputs": [],
   "source": [
    "# Update the trainer arguments to use your datasets\n",
    "training_args = TrainingArguments(\n",
    "    output_dir=\"my_awesome_model\",\n",
    "    learning_rate=1e-5,\n",
    "    per_device_train_batch_size=16,\n",
    "    per_device_eval_batch_size=16,\n",
    "    num_train_epochs=15,\n",
    "    weight_decay=0.01,\n",
    "    eval_strategy=\"epoch\",\n",
    "    save_strategy=\"epoch\",\n",
    "    load_best_model_at_end=True,\n",
    "    metric_for_best_model=\"f1\",  # Use F1 score to select the best model\n",
    "    greater_is_better=True,      # Higher F1 score is better\n",
    "    push_to_hub=False,\n",
    ")\n",
    "\n",
    "# Load F1 metric\n",
    "f1_metric = evaluate.load(\"f1\")\n",
    "\n",
    "def compute_metrics(eval_pred):\n",
    "    predictions, labels = eval_pred.predictions, eval_pred.label_ids\n",
    "\n",
    "\n",
    "    if isinstance(predictions, tuple):\n",
    "        predictions = predictions[0]\n",
    "    # Ensure predictions are 2D\n",
    "    if predictions.ndim == 2:\n",
    "        predictions = np.argmax(predictions, axis=1)\n",
    "    elif predictions.ndim > 2:\n",
    "        raise ValueError(f\"Unexpected predictions shape: {predictions.shape}\")\n",
    "\n",
    "    return f1_metric.compute(predictions=predictions, references=labels, average='macro')\n",
    "\n",
    "trainer = Trainer(\n",
    "    model=model,\n",
    "    args=training_args,\n",
    "    train_dataset=train_dataset,\n",
    "    eval_dataset=val_dataset,\n",
    "    tokenizer=tokeN,\n",
    "    data_collator=data_collator,\n",
    "    compute_metrics=compute_metrics\n",
    ")"
   ]
  },
  {
   "cell_type": "code",
   "execution_count": 13,
   "metadata": {},
   "outputs": [
    {
     "data": {
      "application/vnd.jupyter.widget-view+json": {
       "model_id": "cd94accc710749f59e9e28a7345476d5",
       "version_major": 2,
       "version_minor": 0
      },
      "text/plain": [
       "  0%|          | 0/85335 [00:00<?, ?it/s]"
      ]
     },
     "metadata": {},
     "output_type": "display_data"
    },
    {
     "name": "stdout",
     "output_type": "stream",
     "text": [
      "{'loss': 5.6944, 'grad_norm': 2.164126396179199, 'learning_rate': 9.94140739438683e-06, 'epoch': 0.09}\n",
      "{'loss': 5.5746, 'grad_norm': 2.61074161529541, 'learning_rate': 9.882814788773658e-06, 'epoch': 0.18}\n",
      "{'loss': 5.4275, 'grad_norm': 2.668440341949463, 'learning_rate': 9.824222183160485e-06, 'epoch': 0.26}\n",
      "{'loss': 5.2633, 'grad_norm': 3.4311981201171875, 'learning_rate': 9.765629577547314e-06, 'epoch': 0.35}\n",
      "{'loss': 5.0965, 'grad_norm': 3.194411277770996, 'learning_rate': 9.707036971934143e-06, 'epoch': 0.44}\n",
      "{'loss': 4.925, 'grad_norm': 3.1747934818267822, 'learning_rate': 9.648444366320971e-06, 'epoch': 0.53}\n",
      "{'loss': 4.7501, 'grad_norm': 4.537007808685303, 'learning_rate': 9.589851760707798e-06, 'epoch': 0.62}\n",
      "{'loss': 4.5707, 'grad_norm': 3.4933345317840576, 'learning_rate': 9.531259155094627e-06, 'epoch': 0.7}\n",
      "{'loss': 4.4166, 'grad_norm': 3.5773255825042725, 'learning_rate': 9.472666549481456e-06, 'epoch': 0.79}\n",
      "{'loss': 4.2597, 'grad_norm': 6.921662330627441, 'learning_rate': 9.414073943868284e-06, 'epoch': 0.88}\n",
      "{'loss': 4.1211, 'grad_norm': 6.790897369384766, 'learning_rate': 9.355481338255113e-06, 'epoch': 0.97}\n"
     ]
    },
    {
     "data": {
      "application/vnd.jupyter.widget-view+json": {
       "model_id": "ff3db4bd72064b079778c4b90fc2d37d",
       "version_major": 2,
       "version_minor": 0
      },
      "text/plain": [
       "  0%|          | 0/77 [00:00<?, ?it/s]"
      ]
     },
     "metadata": {},
     "output_type": "display_data"
    },
    {
     "name": "stdout",
     "output_type": "stream",
     "text": [
      "Predictions type: <class 'tuple'>\n",
      "Predictions shape after handling tuple: (1226, 303)\n",
      "Labels shape: (1226,)\n",
      "{'eval_loss': 4.163370609283447, 'eval_f1': 0.09266847644652851, 'eval_runtime': 2.6292, 'eval_samples_per_second': 466.295, 'eval_steps_per_second': 29.286, 'epoch': 1.0}\n",
      "{'loss': 3.9664, 'grad_norm': 4.587470054626465, 'learning_rate': 9.296888732641942e-06, 'epoch': 1.05}\n",
      "{'loss': 3.846, 'grad_norm': 4.607370376586914, 'learning_rate': 9.23829612702877e-06, 'epoch': 1.14}\n",
      "{'loss': 3.7246, 'grad_norm': 5.129832744598389, 'learning_rate': 9.179703521415597e-06, 'epoch': 1.23}\n",
      "{'loss': 3.6164, 'grad_norm': 6.261531829833984, 'learning_rate': 9.121110915802426e-06, 'epoch': 1.32}\n",
      "{'loss': 3.5032, 'grad_norm': 5.075292110443115, 'learning_rate': 9.062518310189255e-06, 'epoch': 1.41}\n",
      "{'loss': 3.4063, 'grad_norm': 5.411041259765625, 'learning_rate': 9.003925704576084e-06, 'epoch': 1.49}\n",
      "{'loss': 3.3114, 'grad_norm': 5.023280143737793, 'learning_rate': 8.945333098962912e-06, 'epoch': 1.58}\n",
      "{'loss': 3.1692, 'grad_norm': 7.528536319732666, 'learning_rate': 8.886740493349741e-06, 'epoch': 1.67}\n",
      "{'loss': 3.0812, 'grad_norm': 6.1261186599731445, 'learning_rate': 8.828147887736568e-06, 'epoch': 1.76}\n",
      "{'loss': 3.0122, 'grad_norm': 7.672118186950684, 'learning_rate': 8.769555282123397e-06, 'epoch': 1.85}\n",
      "{'loss': 2.9505, 'grad_norm': 5.015334129333496, 'learning_rate': 8.710962676510225e-06, 'epoch': 1.93}\n"
     ]
    },
    {
     "data": {
      "application/vnd.jupyter.widget-view+json": {
       "model_id": "f527fd39b6614e1da21b1b81ace0c5de",
       "version_major": 2,
       "version_minor": 0
      },
      "text/plain": [
       "  0%|          | 0/77 [00:00<?, ?it/s]"
      ]
     },
     "metadata": {},
     "output_type": "display_data"
    },
    {
     "name": "stdout",
     "output_type": "stream",
     "text": [
      "Predictions type: <class 'tuple'>\n",
      "Predictions shape after handling tuple: (1226, 303)\n",
      "Labels shape: (1226,)\n",
      "{'eval_loss': 3.213975191116333, 'eval_f1': 0.15537178079386454, 'eval_runtime': 2.2502, 'eval_samples_per_second': 544.84, 'eval_steps_per_second': 34.219, 'epoch': 2.0}\n",
      "{'loss': 2.8344, 'grad_norm': 6.680964469909668, 'learning_rate': 8.652370070897054e-06, 'epoch': 2.02}\n",
      "{'loss': 2.7339, 'grad_norm': 6.864290714263916, 'learning_rate': 8.593777465283883e-06, 'epoch': 2.11}\n",
      "{'loss': 2.6336, 'grad_norm': 7.875339508056641, 'learning_rate': 8.53518485967071e-06, 'epoch': 2.2}\n",
      "{'loss': 2.571, 'grad_norm': 10.238239288330078, 'learning_rate': 8.476592254057538e-06, 'epoch': 2.29}\n",
      "{'loss': 2.4775, 'grad_norm': 8.93303108215332, 'learning_rate': 8.417999648444367e-06, 'epoch': 2.37}\n",
      "{'loss': 2.427, 'grad_norm': 8.728456497192383, 'learning_rate': 8.359407042831196e-06, 'epoch': 2.46}\n",
      "{'loss': 2.3945, 'grad_norm': 8.273453712463379, 'learning_rate': 8.300814437218023e-06, 'epoch': 2.55}\n",
      "{'loss': 2.3365, 'grad_norm': 10.185628890991211, 'learning_rate': 8.242221831604852e-06, 'epoch': 2.64}\n",
      "{'loss': 2.2757, 'grad_norm': 8.664929389953613, 'learning_rate': 8.18362922599168e-06, 'epoch': 2.72}\n",
      "{'loss': 2.2082, 'grad_norm': 6.679135322570801, 'learning_rate': 8.125036620378509e-06, 'epoch': 2.81}\n",
      "{'loss': 2.1363, 'grad_norm': 7.886694431304932, 'learning_rate': 8.066444014765338e-06, 'epoch': 2.9}\n",
      "{'loss': 2.0802, 'grad_norm': 11.930729866027832, 'learning_rate': 8.007851409152165e-06, 'epoch': 2.99}\n"
     ]
    },
    {
     "data": {
      "application/vnd.jupyter.widget-view+json": {
       "model_id": "0358f93524ae41a5aa64215dc9bc7abf",
       "version_major": 2,
       "version_minor": 0
      },
      "text/plain": [
       "  0%|          | 0/77 [00:00<?, ?it/s]"
      ]
     },
     "metadata": {},
     "output_type": "display_data"
    },
    {
     "name": "stdout",
     "output_type": "stream",
     "text": [
      "Predictions type: <class 'tuple'>\n",
      "Predictions shape after handling tuple: (1226, 303)\n",
      "Labels shape: (1226,)\n",
      "{'eval_loss': 2.5913937091827393, 'eval_f1': 0.21495361284692757, 'eval_runtime': 2.1966, 'eval_samples_per_second': 558.133, 'eval_steps_per_second': 35.054, 'epoch': 3.0}\n",
      "{'loss': 2.0215, 'grad_norm': 9.56960678100586, 'learning_rate': 7.949258803538993e-06, 'epoch': 3.08}\n",
      "{'loss': 1.9296, 'grad_norm': 10.78580379486084, 'learning_rate': 7.890666197925822e-06, 'epoch': 3.16}\n",
      "{'loss': 1.8905, 'grad_norm': 11.23122787475586, 'learning_rate': 7.83207359231265e-06, 'epoch': 3.25}\n",
      "{'loss': 1.8481, 'grad_norm': 13.281356811523438, 'learning_rate': 7.77348098669948e-06, 'epoch': 3.34}\n",
      "{'loss': 1.8012, 'grad_norm': 6.555609703063965, 'learning_rate': 7.714888381086308e-06, 'epoch': 3.43}\n",
      "{'loss': 1.7578, 'grad_norm': 12.901272773742676, 'learning_rate': 7.656295775473135e-06, 'epoch': 3.52}\n",
      "{'loss': 1.7502, 'grad_norm': 11.27485466003418, 'learning_rate': 7.597703169859965e-06, 'epoch': 3.6}\n",
      "{'loss': 1.7088, 'grad_norm': 12.835404396057129, 'learning_rate': 7.539110564246793e-06, 'epoch': 3.69}\n",
      "{'loss': 1.6917, 'grad_norm': 11.904497146606445, 'learning_rate': 7.48051795863362e-06, 'epoch': 3.78}\n",
      "{'loss': 1.6102, 'grad_norm': 16.287019729614258, 'learning_rate': 7.421925353020449e-06, 'epoch': 3.87}\n",
      "{'loss': 1.6112, 'grad_norm': 12.139396667480469, 'learning_rate': 7.363332747407278e-06, 'epoch': 3.96}\n"
     ]
    },
    {
     "data": {
      "application/vnd.jupyter.widget-view+json": {
       "model_id": "480429d3223e4ce6a2e335ab2ab4c7de",
       "version_major": 2,
       "version_minor": 0
      },
      "text/plain": [
       "  0%|          | 0/77 [00:00<?, ?it/s]"
      ]
     },
     "metadata": {},
     "output_type": "display_data"
    },
    {
     "name": "stdout",
     "output_type": "stream",
     "text": [
      "Predictions type: <class 'tuple'>\n",
      "Predictions shape after handling tuple: (1226, 303)\n",
      "Labels shape: (1226,)\n",
      "{'eval_loss': 2.1493046283721924, 'eval_f1': 0.28550481354867446, 'eval_runtime': 2.199, 'eval_samples_per_second': 557.528, 'eval_steps_per_second': 35.016, 'epoch': 4.0}\n",
      "{'loss': 1.5435, 'grad_norm': 11.673232078552246, 'learning_rate': 7.3047401417941065e-06, 'epoch': 4.04}\n",
      "{'loss': 1.4898, 'grad_norm': 11.050105094909668, 'learning_rate': 7.246147536180934e-06, 'epoch': 4.13}\n",
      "{'loss': 1.4653, 'grad_norm': 7.984050750732422, 'learning_rate': 7.187554930567763e-06, 'epoch': 4.22}\n",
      "{'loss': 1.4145, 'grad_norm': 15.628218650817871, 'learning_rate': 7.128962324954592e-06, 'epoch': 4.31}\n",
      "{'loss': 1.3869, 'grad_norm': 13.590569496154785, 'learning_rate': 7.07036971934142e-06, 'epoch': 4.39}\n",
      "{'loss': 1.3484, 'grad_norm': 12.340699195861816, 'learning_rate': 7.011777113728247e-06, 'epoch': 4.48}\n",
      "{'loss': 1.3474, 'grad_norm': 11.753653526306152, 'learning_rate': 6.953184508115076e-06, 'epoch': 4.57}\n",
      "{'loss': 1.2991, 'grad_norm': 17.699722290039062, 'learning_rate': 6.894591902501905e-06, 'epoch': 4.66}\n",
      "{'loss': 1.3101, 'grad_norm': 14.503473281860352, 'learning_rate': 6.8359992968887335e-06, 'epoch': 4.75}\n",
      "{'loss': 1.2794, 'grad_norm': 10.231245040893555, 'learning_rate': 6.777406691275562e-06, 'epoch': 4.83}\n",
      "{'loss': 1.2745, 'grad_norm': 17.860506057739258, 'learning_rate': 6.718814085662389e-06, 'epoch': 4.92}\n"
     ]
    },
    {
     "data": {
      "application/vnd.jupyter.widget-view+json": {
       "model_id": "42256ca9513247e7921b5fc41c814d4b",
       "version_major": 2,
       "version_minor": 0
      },
      "text/plain": [
       "  0%|          | 0/77 [00:00<?, ?it/s]"
      ]
     },
     "metadata": {},
     "output_type": "display_data"
    },
    {
     "name": "stdout",
     "output_type": "stream",
     "text": [
      "Predictions type: <class 'tuple'>\n",
      "Predictions shape after handling tuple: (1226, 303)\n",
      "Labels shape: (1226,)\n",
      "{'eval_loss': 1.9436287879943848, 'eval_f1': 0.3165500520474519, 'eval_runtime': 2.2297, 'eval_samples_per_second': 549.848, 'eval_steps_per_second': 34.534, 'epoch': 5.0}\n",
      "{'loss': 1.2287, 'grad_norm': 33.57904052734375, 'learning_rate': 6.660221480049218e-06, 'epoch': 5.01}\n",
      "{'loss': 1.1539, 'grad_norm': 20.69505500793457, 'learning_rate': 6.601628874436047e-06, 'epoch': 5.1}\n",
      "{'loss': 1.097, 'grad_norm': 16.746337890625, 'learning_rate': 6.543036268822875e-06, 'epoch': 5.19}\n",
      "{'loss': 1.1228, 'grad_norm': 11.957606315612793, 'learning_rate': 6.484443663209703e-06, 'epoch': 5.27}\n",
      "{'loss': 1.1063, 'grad_norm': 18.179672241210938, 'learning_rate': 6.425851057596532e-06, 'epoch': 5.36}\n",
      "{'loss': 1.0678, 'grad_norm': 10.7249755859375, 'learning_rate': 6.3672584519833605e-06, 'epoch': 5.45}\n",
      "{'loss': 1.0813, 'grad_norm': 20.113176345825195, 'learning_rate': 6.308665846370189e-06, 'epoch': 5.54}\n",
      "{'loss': 1.0666, 'grad_norm': 33.07874298095703, 'learning_rate': 6.250073240757017e-06, 'epoch': 5.62}\n",
      "{'loss': 1.0598, 'grad_norm': 14.918522834777832, 'learning_rate': 6.191480635143845e-06, 'epoch': 5.71}\n",
      "{'loss': 1.0086, 'grad_norm': 10.941014289855957, 'learning_rate': 6.132888029530674e-06, 'epoch': 5.8}\n",
      "{'loss': 1.0037, 'grad_norm': 9.411088943481445, 'learning_rate': 6.074295423917502e-06, 'epoch': 5.89}\n",
      "{'loss': 1.0111, 'grad_norm': 12.856287956237793, 'learning_rate': 6.015702818304331e-06, 'epoch': 5.98}\n"
     ]
    },
    {
     "data": {
      "application/vnd.jupyter.widget-view+json": {
       "model_id": "74cf6abf163a49c8bb0b64df847510c0",
       "version_major": 2,
       "version_minor": 0
      },
      "text/plain": [
       "  0%|          | 0/77 [00:00<?, ?it/s]"
      ]
     },
     "metadata": {},
     "output_type": "display_data"
    },
    {
     "name": "stdout",
     "output_type": "stream",
     "text": [
      "Predictions type: <class 'tuple'>\n",
      "Predictions shape after handling tuple: (1226, 303)\n",
      "Labels shape: (1226,)\n",
      "{'eval_loss': 1.804884433746338, 'eval_f1': 0.34794769835415656, 'eval_runtime': 2.1964, 'eval_samples_per_second': 558.19, 'eval_steps_per_second': 35.058, 'epoch': 6.0}\n",
      "{'loss': 0.9278, 'grad_norm': 37.164798736572266, 'learning_rate': 5.957110212691158e-06, 'epoch': 6.06}\n",
      "{'loss': 0.9067, 'grad_norm': 19.50887680053711, 'learning_rate': 5.898517607077987e-06, 'epoch': 6.15}\n",
      "{'loss': 0.8963, 'grad_norm': 14.56820297241211, 'learning_rate': 5.839925001464815e-06, 'epoch': 6.24}\n",
      "{'loss': 0.9022, 'grad_norm': 9.464683532714844, 'learning_rate': 5.781332395851644e-06, 'epoch': 6.33}\n",
      "{'loss': 0.8552, 'grad_norm': 10.353435516357422, 'learning_rate': 5.722739790238473e-06, 'epoch': 6.42}\n",
      "{'loss': 0.8653, 'grad_norm': 10.036881446838379, 'learning_rate': 5.664147184625301e-06, 'epoch': 6.5}\n",
      "{'loss': 0.8748, 'grad_norm': 30.91769790649414, 'learning_rate': 5.605554579012129e-06, 'epoch': 6.59}\n",
      "{'loss': 0.8402, 'grad_norm': 19.145662307739258, 'learning_rate': 5.546961973398958e-06, 'epoch': 6.68}\n",
      "{'loss': 0.828, 'grad_norm': 15.551567077636719, 'learning_rate': 5.488369367785787e-06, 'epoch': 6.77}\n",
      "{'loss': 0.8466, 'grad_norm': 11.733744621276855, 'learning_rate': 5.429776762172614e-06, 'epoch': 6.86}\n",
      "{'loss': 0.8215, 'grad_norm': 18.62572479248047, 'learning_rate': 5.3711841565594424e-06, 'epoch': 6.94}\n"
     ]
    },
    {
     "data": {
      "application/vnd.jupyter.widget-view+json": {
       "model_id": "36582336834b491f9cfb0d2764811167",
       "version_major": 2,
       "version_minor": 0
      },
      "text/plain": [
       "  0%|          | 0/77 [00:00<?, ?it/s]"
      ]
     },
     "metadata": {},
     "output_type": "display_data"
    },
    {
     "name": "stdout",
     "output_type": "stream",
     "text": [
      "Predictions type: <class 'tuple'>\n",
      "Predictions shape after handling tuple: (1226, 303)\n",
      "Labels shape: (1226,)\n",
      "{'eval_loss': 1.7345561981201172, 'eval_f1': 0.36769637868661287, 'eval_runtime': 2.1665, 'eval_samples_per_second': 565.885, 'eval_steps_per_second': 35.541, 'epoch': 7.0}\n",
      "{'loss': 0.7882, 'grad_norm': 10.511837005615234, 'learning_rate': 5.312591550946271e-06, 'epoch': 7.03}\n",
      "{'loss': 0.7244, 'grad_norm': 12.567030906677246, 'learning_rate': 5.2539989453331e-06, 'epoch': 7.12}\n",
      "{'loss': 0.7169, 'grad_norm': 15.558135032653809, 'learning_rate': 5.195406339719927e-06, 'epoch': 7.21}\n",
      "{'loss': 0.719, 'grad_norm': 18.88845443725586, 'learning_rate': 5.1368137341067555e-06, 'epoch': 7.29}\n",
      "{'loss': 0.7075, 'grad_norm': 12.020256042480469, 'learning_rate': 5.078221128493584e-06, 'epoch': 7.38}\n",
      "{'loss': 0.7147, 'grad_norm': 12.970465660095215, 'learning_rate': 5.019628522880413e-06, 'epoch': 7.47}\n",
      "{'loss': 0.7004, 'grad_norm': 19.13396644592285, 'learning_rate': 4.961035917267242e-06, 'epoch': 7.56}\n",
      "{'loss': 0.7052, 'grad_norm': 26.702770233154297, 'learning_rate': 4.9024433116540695e-06, 'epoch': 7.65}\n",
      "{'loss': 0.7072, 'grad_norm': 20.78654670715332, 'learning_rate': 4.843850706040898e-06, 'epoch': 7.73}\n",
      "{'loss': 0.6738, 'grad_norm': 22.177989959716797, 'learning_rate': 4.785258100427727e-06, 'epoch': 7.82}\n",
      "{'loss': 0.685, 'grad_norm': 17.621231079101562, 'learning_rate': 4.726665494814555e-06, 'epoch': 7.91}\n",
      "{'loss': 0.684, 'grad_norm': 12.000744819641113, 'learning_rate': 4.668072889201383e-06, 'epoch': 8.0}\n"
     ]
    },
    {
     "data": {
      "application/vnd.jupyter.widget-view+json": {
       "model_id": "22cf3ebaa3cf4c0a9a2fb96d22f2b469",
       "version_major": 2,
       "version_minor": 0
      },
      "text/plain": [
       "  0%|          | 0/77 [00:00<?, ?it/s]"
      ]
     },
     "metadata": {},
     "output_type": "display_data"
    },
    {
     "name": "stdout",
     "output_type": "stream",
     "text": [
      "Predictions type: <class 'tuple'>\n",
      "Predictions shape after handling tuple: (1226, 303)\n",
      "Labels shape: (1226,)\n",
      "{'eval_loss': 1.7008050680160522, 'eval_f1': 0.3803592600881369, 'eval_runtime': 2.2174, 'eval_samples_per_second': 552.888, 'eval_steps_per_second': 34.725, 'epoch': 8.0}\n",
      "{'loss': 0.594, 'grad_norm': 12.866338729858398, 'learning_rate': 4.609480283588211e-06, 'epoch': 8.09}\n",
      "{'loss': 0.6089, 'grad_norm': 26.32929039001465, 'learning_rate': 4.55088767797504e-06, 'epoch': 8.17}\n",
      "{'loss': 0.5971, 'grad_norm': 10.219931602478027, 'learning_rate': 4.492295072361869e-06, 'epoch': 8.26}\n",
      "{'loss': 0.6045, 'grad_norm': 18.504281997680664, 'learning_rate': 4.4337024667486965e-06, 'epoch': 8.35}\n",
      "{'loss': 0.5763, 'grad_norm': 15.272106170654297, 'learning_rate': 4.375109861135525e-06, 'epoch': 8.44}\n",
      "{'loss': 0.5821, 'grad_norm': 32.90963363647461, 'learning_rate': 4.316517255522353e-06, 'epoch': 8.53}\n",
      "{'loss': 0.5772, 'grad_norm': 13.390931129455566, 'learning_rate': 4.257924649909182e-06, 'epoch': 8.61}\n",
      "{'loss': 0.5891, 'grad_norm': 13.111100196838379, 'learning_rate': 4.1993320442960104e-06, 'epoch': 8.7}\n",
      "{'loss': 0.5661, 'grad_norm': 16.565805435180664, 'learning_rate': 4.140739438682838e-06, 'epoch': 8.79}\n",
      "{'loss': 0.5663, 'grad_norm': 8.191954612731934, 'learning_rate': 4.082146833069667e-06, 'epoch': 8.88}\n",
      "{'loss': 0.5534, 'grad_norm': 17.80544662475586, 'learning_rate': 4.023554227456496e-06, 'epoch': 8.96}\n"
     ]
    },
    {
     "data": {
      "application/vnd.jupyter.widget-view+json": {
       "model_id": "5e89ae42624643498550c3c8ee10e047",
       "version_major": 2,
       "version_minor": 0
      },
      "text/plain": [
       "  0%|          | 0/77 [00:00<?, ?it/s]"
      ]
     },
     "metadata": {},
     "output_type": "display_data"
    },
    {
     "name": "stdout",
     "output_type": "stream",
     "text": [
      "Predictions type: <class 'tuple'>\n",
      "Predictions shape after handling tuple: (1226, 303)\n",
      "Labels shape: (1226,)\n",
      "{'eval_loss': 1.696184754371643, 'eval_f1': 0.3797641891960022, 'eval_runtime': 2.239, 'eval_samples_per_second': 547.565, 'eval_steps_per_second': 34.39, 'epoch': 9.0}\n",
      "{'loss': 0.5136, 'grad_norm': 18.84820556640625, 'learning_rate': 3.9649616218433235e-06, 'epoch': 9.05}\n",
      "{'loss': 0.4928, 'grad_norm': 15.342187881469727, 'learning_rate': 3.906369016230152e-06, 'epoch': 9.14}\n",
      "{'loss': 0.4779, 'grad_norm': 10.677227020263672, 'learning_rate': 3.847776410616981e-06, 'epoch': 9.23}\n",
      "{'loss': 0.4832, 'grad_norm': 13.622547149658203, 'learning_rate': 3.7891838050038088e-06, 'epoch': 9.32}\n",
      "{'loss': 0.4965, 'grad_norm': 12.757238388061523, 'learning_rate': 3.7305911993906375e-06, 'epoch': 9.4}\n",
      "{'loss': 0.5104, 'grad_norm': 12.208625793457031, 'learning_rate': 3.6719985937774653e-06, 'epoch': 9.49}\n",
      "{'loss': 0.4856, 'grad_norm': 19.96226692199707, 'learning_rate': 3.613405988164294e-06, 'epoch': 9.58}\n",
      "{'loss': 0.4767, 'grad_norm': 9.448295593261719, 'learning_rate': 3.5548133825511223e-06, 'epoch': 9.67}\n",
      "{'loss': 0.486, 'grad_norm': 26.38368797302246, 'learning_rate': 3.496220776937951e-06, 'epoch': 9.76}\n",
      "{'loss': 0.4847, 'grad_norm': 42.31874084472656, 'learning_rate': 3.437628171324779e-06, 'epoch': 9.84}\n",
      "{'loss': 0.4814, 'grad_norm': 19.197240829467773, 'learning_rate': 3.3790355657116075e-06, 'epoch': 9.93}\n"
     ]
    },
    {
     "data": {
      "application/vnd.jupyter.widget-view+json": {
       "model_id": "2bcb833ed4fd4132ba2375d95033c175",
       "version_major": 2,
       "version_minor": 0
      },
      "text/plain": [
       "  0%|          | 0/77 [00:00<?, ?it/s]"
      ]
     },
     "metadata": {},
     "output_type": "display_data"
    },
    {
     "name": "stdout",
     "output_type": "stream",
     "text": [
      "Predictions type: <class 'tuple'>\n",
      "Predictions shape after handling tuple: (1226, 303)\n",
      "Labels shape: (1226,)\n",
      "{'eval_loss': 1.643417239189148, 'eval_f1': 0.3975337350783607, 'eval_runtime': 2.111, 'eval_samples_per_second': 580.766, 'eval_steps_per_second': 36.476, 'epoch': 10.0}\n",
      "{'loss': 0.4608, 'grad_norm': 21.184221267700195, 'learning_rate': 3.3204429600984354e-06, 'epoch': 10.02}\n",
      "{'loss': 0.4244, 'grad_norm': 12.70455551147461, 'learning_rate': 3.261850354485264e-06, 'epoch': 10.11}\n",
      "{'loss': 0.4219, 'grad_norm': 8.56930160522461, 'learning_rate': 3.2032577488720928e-06, 'epoch': 10.2}\n",
      "{'loss': 0.4121, 'grad_norm': 4.523283958435059, 'learning_rate': 3.144665143258921e-06, 'epoch': 10.28}\n",
      "{'loss': 0.4235, 'grad_norm': 31.038501739501953, 'learning_rate': 3.0860725376457497e-06, 'epoch': 10.37}\n",
      "{'loss': 0.4019, 'grad_norm': 15.507295608520508, 'learning_rate': 3.0274799320325776e-06, 'epoch': 10.46}\n",
      "{'loss': 0.4303, 'grad_norm': 13.212662696838379, 'learning_rate': 2.9688873264194063e-06, 'epoch': 10.55}\n",
      "{'loss': 0.4152, 'grad_norm': 14.498486518859863, 'learning_rate': 2.910294720806234e-06, 'epoch': 10.63}\n",
      "{'loss': 0.4069, 'grad_norm': 24.869365692138672, 'learning_rate': 2.851702115193063e-06, 'epoch': 10.72}\n",
      "{'loss': 0.4161, 'grad_norm': 15.35440731048584, 'learning_rate': 2.793109509579891e-06, 'epoch': 10.81}\n",
      "{'loss': 0.4196, 'grad_norm': 22.761384963989258, 'learning_rate': 2.73451690396672e-06, 'epoch': 10.9}\n",
      "{'loss': 0.3938, 'grad_norm': 26.809240341186523, 'learning_rate': 2.675924298353548e-06, 'epoch': 10.99}\n"
     ]
    },
    {
     "data": {
      "application/vnd.jupyter.widget-view+json": {
       "model_id": "d37f5429789841f98fdc40abbe0d25fc",
       "version_major": 2,
       "version_minor": 0
      },
      "text/plain": [
       "  0%|          | 0/77 [00:00<?, ?it/s]"
      ]
     },
     "metadata": {},
     "output_type": "display_data"
    },
    {
     "name": "stdout",
     "output_type": "stream",
     "text": [
      "Predictions type: <class 'tuple'>\n",
      "Predictions shape after handling tuple: (1226, 303)\n",
      "Labels shape: (1226,)\n",
      "{'eval_loss': 1.6347522735595703, 'eval_f1': 0.4166037147619554, 'eval_runtime': 2.203, 'eval_samples_per_second': 556.513, 'eval_steps_per_second': 34.952, 'epoch': 11.0}\n",
      "{'loss': 0.3708, 'grad_norm': 18.372133255004883, 'learning_rate': 2.6173316927403764e-06, 'epoch': 11.07}\n",
      "{'loss': 0.3546, 'grad_norm': 24.645328521728516, 'learning_rate': 2.558739087127205e-06, 'epoch': 11.16}\n",
      "{'loss': 0.3641, 'grad_norm': 4.647327423095703, 'learning_rate': 2.500146481514033e-06, 'epoch': 11.25}\n",
      "{'loss': 0.3606, 'grad_norm': 26.462879180908203, 'learning_rate': 2.4415538759008616e-06, 'epoch': 11.34}\n",
      "{'loss': 0.3719, 'grad_norm': 25.459857940673828, 'learning_rate': 2.38296127028769e-06, 'epoch': 11.43}\n",
      "{'loss': 0.3597, 'grad_norm': 13.304788589477539, 'learning_rate': 2.3243686646745186e-06, 'epoch': 11.51}\n",
      "{'loss': 0.3562, 'grad_norm': 5.8092041015625, 'learning_rate': 2.265776059061347e-06, 'epoch': 11.6}\n",
      "{'loss': 0.3591, 'grad_norm': 11.635021209716797, 'learning_rate': 2.207183453448175e-06, 'epoch': 11.69}\n",
      "{'loss': 0.3466, 'grad_norm': 15.28547477722168, 'learning_rate': 2.1485908478350034e-06, 'epoch': 11.78}\n",
      "{'loss': 0.342, 'grad_norm': 13.612247467041016, 'learning_rate': 2.0899982422218317e-06, 'epoch': 11.87}\n",
      "{'loss': 0.3368, 'grad_norm': 17.410945892333984, 'learning_rate': 2.03140563660866e-06, 'epoch': 11.95}\n"
     ]
    },
    {
     "data": {
      "application/vnd.jupyter.widget-view+json": {
       "model_id": "ee4389282a1e4d378de0997827c023b4",
       "version_major": 2,
       "version_minor": 0
      },
      "text/plain": [
       "  0%|          | 0/77 [00:00<?, ?it/s]"
      ]
     },
     "metadata": {},
     "output_type": "display_data"
    },
    {
     "name": "stdout",
     "output_type": "stream",
     "text": [
      "Predictions type: <class 'tuple'>\n",
      "Predictions shape after handling tuple: (1226, 303)\n",
      "Labels shape: (1226,)\n",
      "{'eval_loss': 1.6552307605743408, 'eval_f1': 0.410156321763646, 'eval_runtime': 2.3613, 'eval_samples_per_second': 519.2, 'eval_steps_per_second': 32.609, 'epoch': 12.0}\n",
      "{'loss': 0.3406, 'grad_norm': 11.766308784484863, 'learning_rate': 1.9728130309954886e-06, 'epoch': 12.04}\n",
      "{'loss': 0.3217, 'grad_norm': 33.13261032104492, 'learning_rate': 1.914220425382317e-06, 'epoch': 12.13}\n",
      "{'loss': 0.3182, 'grad_norm': 20.638275146484375, 'learning_rate': 1.8556278197691452e-06, 'epoch': 12.22}\n",
      "{'loss': 0.3038, 'grad_norm': 16.78035545349121, 'learning_rate': 1.7970352141559734e-06, 'epoch': 12.3}\n",
      "{'loss': 0.3033, 'grad_norm': 24.74161720275879, 'learning_rate': 1.7384426085428021e-06, 'epoch': 12.39}\n",
      "{'loss': 0.3079, 'grad_norm': 23.241823196411133, 'learning_rate': 1.6798500029296304e-06, 'epoch': 12.48}\n",
      "{'loss': 0.318, 'grad_norm': 19.884387969970703, 'learning_rate': 1.621257397316459e-06, 'epoch': 12.57}\n",
      "{'loss': 0.2994, 'grad_norm': 9.024845123291016, 'learning_rate': 1.5626647917032872e-06, 'epoch': 12.66}\n",
      "{'loss': 0.3144, 'grad_norm': 15.328583717346191, 'learning_rate': 1.5040721860901157e-06, 'epoch': 12.74}\n",
      "{'loss': 0.304, 'grad_norm': 14.065890312194824, 'learning_rate': 1.445479580476944e-06, 'epoch': 12.83}\n",
      "{'loss': 0.3025, 'grad_norm': 9.359943389892578, 'learning_rate': 1.3868869748637722e-06, 'epoch': 12.92}\n"
     ]
    },
    {
     "data": {
      "application/vnd.jupyter.widget-view+json": {
       "model_id": "08416abb476640e1b4b5f7bbfb2481de",
       "version_major": 2,
       "version_minor": 0
      },
      "text/plain": [
       "  0%|          | 0/77 [00:00<?, ?it/s]"
      ]
     },
     "metadata": {},
     "output_type": "display_data"
    },
    {
     "name": "stdout",
     "output_type": "stream",
     "text": [
      "Predictions type: <class 'tuple'>\n",
      "Predictions shape after handling tuple: (1226, 303)\n",
      "Labels shape: (1226,)\n",
      "{'eval_loss': 1.6512647867202759, 'eval_f1': 0.40269609227346137, 'eval_runtime': 2.2245, 'eval_samples_per_second': 551.131, 'eval_steps_per_second': 34.614, 'epoch': 13.0}\n",
      "{'loss': 0.3017, 'grad_norm': 17.804292678833008, 'learning_rate': 1.3282943692506007e-06, 'epoch': 13.01}\n",
      "{'loss': 0.2802, 'grad_norm': 7.465096473693848, 'learning_rate': 1.269701763637429e-06, 'epoch': 13.1}\n",
      "{'loss': 0.2833, 'grad_norm': 19.85082244873047, 'learning_rate': 1.2111091580242574e-06, 'epoch': 13.18}\n",
      "{'loss': 0.2842, 'grad_norm': 2.3646240234375, 'learning_rate': 1.1525165524110857e-06, 'epoch': 13.27}\n",
      "{'loss': 0.28, 'grad_norm': 12.330719947814941, 'learning_rate': 1.0939239467979142e-06, 'epoch': 13.36}\n",
      "{'loss': 0.2884, 'grad_norm': 12.887195587158203, 'learning_rate': 1.0353313411847425e-06, 'epoch': 13.45}\n",
      "{'loss': 0.2968, 'grad_norm': 8.223608016967773, 'learning_rate': 9.76738735571571e-07, 'epoch': 13.53}\n",
      "{'loss': 0.2752, 'grad_norm': 12.937067031860352, 'learning_rate': 9.181461299583993e-07, 'epoch': 13.62}\n",
      "{'loss': 0.2684, 'grad_norm': 10.047850608825684, 'learning_rate': 8.595535243452277e-07, 'epoch': 13.71}\n",
      "{'loss': 0.2744, 'grad_norm': 15.093300819396973, 'learning_rate': 8.009609187320561e-07, 'epoch': 13.8}\n",
      "{'loss': 0.2718, 'grad_norm': 12.351302146911621, 'learning_rate': 7.423683131188844e-07, 'epoch': 13.89}\n",
      "{'loss': 0.2763, 'grad_norm': 22.021102905273438, 'learning_rate': 6.837757075057129e-07, 'epoch': 13.97}\n"
     ]
    },
    {
     "data": {
      "application/vnd.jupyter.widget-view+json": {
       "model_id": "ab3d3046c29e4539b65ac69452f5ab8a",
       "version_major": 2,
       "version_minor": 0
      },
      "text/plain": [
       "  0%|          | 0/77 [00:00<?, ?it/s]"
      ]
     },
     "metadata": {},
     "output_type": "display_data"
    },
    {
     "name": "stdout",
     "output_type": "stream",
     "text": [
      "Predictions type: <class 'tuple'>\n",
      "Predictions shape after handling tuple: (1226, 303)\n",
      "Labels shape: (1226,)\n",
      "{'eval_loss': 1.640536904335022, 'eval_f1': 0.40964526908049725, 'eval_runtime': 2.203, 'eval_samples_per_second': 556.513, 'eval_steps_per_second': 34.952, 'epoch': 14.0}\n",
      "{'loss': 0.2588, 'grad_norm': 17.287996292114258, 'learning_rate': 6.251831018925412e-07, 'epoch': 14.06}\n",
      "{'loss': 0.2546, 'grad_norm': 10.865702629089355, 'learning_rate': 5.665904962793696e-07, 'epoch': 14.15}\n",
      "{'loss': 0.27, 'grad_norm': 10.387070655822754, 'learning_rate': 5.07997890666198e-07, 'epoch': 14.24}\n",
      "{'loss': 0.2651, 'grad_norm': 20.386409759521484, 'learning_rate': 4.494052850530264e-07, 'epoch': 14.33}\n",
      "{'loss': 0.2661, 'grad_norm': 21.443925857543945, 'learning_rate': 3.908126794398547e-07, 'epoch': 14.41}\n",
      "{'loss': 0.2574, 'grad_norm': 12.499202728271484, 'learning_rate': 3.322200738266831e-07, 'epoch': 14.5}\n",
      "{'loss': 0.2627, 'grad_norm': 11.487359046936035, 'learning_rate': 2.736274682135115e-07, 'epoch': 14.59}\n",
      "{'loss': 0.2681, 'grad_norm': 11.180214881896973, 'learning_rate': 2.1503486260033984e-07, 'epoch': 14.68}\n",
      "{'loss': 0.2406, 'grad_norm': 9.128199577331543, 'learning_rate': 1.5644225698716822e-07, 'epoch': 14.77}\n",
      "{'loss': 0.2539, 'grad_norm': 12.754450798034668, 'learning_rate': 9.784965137399661e-08, 'epoch': 14.85}\n",
      "{'loss': 0.2596, 'grad_norm': 7.296626091003418, 'learning_rate': 3.925704576082498e-08, 'epoch': 14.94}\n"
     ]
    },
    {
     "data": {
      "application/vnd.jupyter.widget-view+json": {
       "model_id": "95300e0965f84ee2b8e57a56bb84eb21",
       "version_major": 2,
       "version_minor": 0
      },
      "text/plain": [
       "  0%|          | 0/77 [00:00<?, ?it/s]"
      ]
     },
     "metadata": {},
     "output_type": "display_data"
    },
    {
     "name": "stdout",
     "output_type": "stream",
     "text": [
      "Predictions type: <class 'tuple'>\n",
      "Predictions shape after handling tuple: (1226, 303)\n",
      "Labels shape: (1226,)\n",
      "{'eval_loss': 1.6489739418029785, 'eval_f1': 0.4118059703854988, 'eval_runtime': 2.227, 'eval_samples_per_second': 550.516, 'eval_steps_per_second': 34.576, 'epoch': 15.0}\n",
      "{'train_runtime': 15693.416, 'train_samples_per_second': 86.993, 'train_steps_per_second': 5.438, 'train_loss': 1.273059845909458, 'epoch': 15.0}\n"
     ]
    },
    {
     "data": {
      "text/plain": [
       "TrainOutput(global_step=85335, training_loss=1.273059845909458, metrics={'train_runtime': 15693.416, 'train_samples_per_second': 86.993, 'train_steps_per_second': 5.438, 'total_flos': 6.580211547141181e+16, 'train_loss': 1.273059845909458, 'epoch': 15.0})"
      ]
     },
     "execution_count": 13,
     "metadata": {},
     "output_type": "execute_result"
    }
   ],
   "source": [
    "trainer.train()"
   ]
  },
  {
   "cell_type": "markdown",
   "metadata": {},
   "source": [
    "# Val"
   ]
  },
  {
   "cell_type": "markdown",
   "metadata": {},
   "source": [
    "## Load model"
   ]
  },
  {
   "cell_type": "code",
   "execution_count": 10,
   "metadata": {},
   "outputs": [
    {
     "name": "stderr",
     "output_type": "stream",
     "text": [
      "C:\\Users\\Auguste Verdier\\.cache\\huggingface\\modules\\transformers_modules\\zhihan1996\\DNABERT-2-117M\\d064dece8a8b41d9fb8729fbe3435278786931f1\\bert_layers.py:126: UserWarning: Unable to import Triton; defaulting MosaicBERT attention implementation to pytorch (this will reduce throughput when using this model).\n",
      "  warnings.warn(\n"
     ]
    }
   ],
   "source": [
    "model_path_save=r\"C:\\Users\\Auguste Verdier\\Desktop\\ADNe\\BouillaClip\\Model\\genera_300_medium_3_mer\\checkpoint-85335\"\n",
    "config = BertConfig.from_pretrained(os.path.join(model_path_save,\"config.json\"), \n",
    "                                    num_labels=len(id2label), \n",
    "                                    max_position_embeddings=510,\n",
    "                                    id2label=id2label,\n",
    "                                    label2id=label2id\n",
    ")\n",
    "\n",
    "model = AutoModelForSequenceClassification.from_pretrained(model_path_save, trust_remote_code=True, ignore_mismatched_sizes=True, config=config).to(device)\n"
   ]
  },
  {
   "cell_type": "code",
   "execution_count": 11,
   "metadata": {},
   "outputs": [],
   "source": [
    "# Update the trainer arguments to use your datasets\n",
    "training_args = TrainingArguments(\n",
    "    output_dir=\"my_awesome_model\",\n",
    "    learning_rate=1e-5,\n",
    "    per_device_train_batch_size=16,\n",
    "    per_device_eval_batch_size=16,\n",
    "    num_train_epochs=15,\n",
    "    weight_decay=0.01,\n",
    "    eval_strategy=\"epoch\",\n",
    "    save_strategy=\"epoch\",\n",
    "    load_best_model_at_end=True,\n",
    "    metric_for_best_model=\"f1\",  # Use F1 score to select the best model\n",
    "    greater_is_better=True,      # Higher F1 score is better\n",
    "    push_to_hub=False,\n",
    ")\n",
    "\n",
    "# Load F1 metric\n",
    "f1_metric = evaluate.load(\"f1\")\n",
    "\n",
    "def compute_metrics(eval_pred):\n",
    "    predictions, labels = eval_pred.predictions, eval_pred.label_ids\n",
    "\n",
    "\n",
    "    if isinstance(predictions, tuple):\n",
    "        predictions = predictions[0]\n",
    "    # Ensure predictions are 2D\n",
    "    if predictions.ndim == 2:\n",
    "        predictions = np.argmax(predictions, axis=1)\n",
    "    elif predictions.ndim > 2:\n",
    "        raise ValueError(f\"Unexpected predictions shape: {predictions.shape}\")\n",
    "\n",
    "    return f1_metric.compute(predictions=predictions, references=labels, average='macro')\n",
    "\n",
    "trainer = Trainer(\n",
    "    model=model,\n",
    "    args=training_args,\n",
    "    train_dataset=train_dataset,\n",
    "    eval_dataset=val_dataset,\n",
    "    tokenizer=tokeN,\n",
    "    data_collator=data_collator,\n",
    "    compute_metrics=compute_metrics\n",
    ")"
   ]
  },
  {
   "cell_type": "code",
   "execution_count": 12,
   "metadata": {},
   "outputs": [
    {
     "data": {
      "application/vnd.jupyter.widget-view+json": {
       "model_id": "1ad4afe901454cf0bf9c7655ab5cab96",
       "version_major": 2,
       "version_minor": 0
      },
      "text/plain": [
       "  0%|          | 0/154 [00:00<?, ?it/s]"
      ]
     },
     "metadata": {},
     "output_type": "display_data"
    },
    {
     "data": {
      "text/plain": [
       "PredictionOutput(predictions=(array([[-2.7792404 ,  1.0934638 , -4.942048  , ...,  0.66068083,\n",
       "         7.4447284 , -1.5372963 ],\n",
       "       [-3.296713  , -0.5567811 , -1.4588093 , ..., -2.433885  ,\n",
       "         1.7861667 , -0.20132664],\n",
       "       [ 1.4642676 , -1.8723526 ,  1.354167  , ...,  1.9308411 ,\n",
       "        -1.8681207 , -0.7271986 ],\n",
       "       ...,\n",
       "       [ 1.0890701 ,  3.3553426 ,  0.10366318, ...,  3.478224  ,\n",
       "        -5.1953177 , -1.7568536 ],\n",
       "       [ 1.7054284 ,  0.6383738 ,  3.1199536 , ..., -1.1823521 ,\n",
       "        -3.8631444 , -1.5513173 ],\n",
       "       [ 1.4084353 , -1.34002   , -2.723738  , ..., -2.0261855 ,\n",
       "         0.36796463,  4.4732676 ]], dtype=float32), array([[[ 3.51176798e-01,  6.74668074e-01, -4.27358449e-01, ...,\n",
       "          4.79375094e-01,  1.31157160e-01, -1.76985841e-02],\n",
       "        [ 6.49972618e-01,  6.87060833e-01, -2.50774324e-01, ...,\n",
       "          9.11989212e-01, -1.39739126e-01, -9.09518301e-02],\n",
       "        [ 5.99686861e-01,  6.87872887e-01, -2.56467890e-02, ...,\n",
       "          1.01779830e+00,  1.39987608e-02, -3.95846181e-03],\n",
       "        ...,\n",
       "        [-1.00000000e+02, -1.00000000e+02, -1.00000000e+02, ...,\n",
       "         -1.00000000e+02, -1.00000000e+02, -1.00000000e+02],\n",
       "        [-1.00000000e+02, -1.00000000e+02, -1.00000000e+02, ...,\n",
       "         -1.00000000e+02, -1.00000000e+02, -1.00000000e+02],\n",
       "        [-1.00000000e+02, -1.00000000e+02, -1.00000000e+02, ...,\n",
       "         -1.00000000e+02, -1.00000000e+02, -1.00000000e+02]],\n",
       "\n",
       "       [[ 5.91418862e-01,  3.89039218e-01,  4.76398975e-01, ...,\n",
       "          4.82883789e-02,  1.02139719e-01,  4.77768689e-01],\n",
       "        [ 7.58810580e-01, -2.36421958e-01,  1.64544687e-01, ...,\n",
       "          8.26598108e-01,  2.25301385e-01, -1.69969276e-01],\n",
       "        [ 7.85696030e-01, -1.87132388e-01,  1.37548372e-01, ...,\n",
       "          7.81539440e-01,  1.90984517e-01, -1.49246722e-01],\n",
       "        ...,\n",
       "        [-1.00000000e+02, -1.00000000e+02, -1.00000000e+02, ...,\n",
       "         -1.00000000e+02, -1.00000000e+02, -1.00000000e+02],\n",
       "        [-1.00000000e+02, -1.00000000e+02, -1.00000000e+02, ...,\n",
       "         -1.00000000e+02, -1.00000000e+02, -1.00000000e+02],\n",
       "        [-1.00000000e+02, -1.00000000e+02, -1.00000000e+02, ...,\n",
       "         -1.00000000e+02, -1.00000000e+02, -1.00000000e+02]],\n",
       "\n",
       "       [[-4.66814071e-01, -5.03988028e-01, -7.48670921e-02, ...,\n",
       "          5.24908423e-01,  3.18088502e-01, -9.49927196e-02],\n",
       "        [-2.04636276e-01, -5.26970804e-01,  3.56244326e-01, ...,\n",
       "          3.55100930e-01,  8.77553463e-01, -2.81411439e-01],\n",
       "        [ 1.61525592e-01, -6.69599399e-02, -3.12808394e-01, ...,\n",
       "         -1.90187171e-02,  5.49216509e-01, -2.22531572e-01],\n",
       "        ...,\n",
       "        [-1.00000000e+02, -1.00000000e+02, -1.00000000e+02, ...,\n",
       "         -1.00000000e+02, -1.00000000e+02, -1.00000000e+02],\n",
       "        [-1.00000000e+02, -1.00000000e+02, -1.00000000e+02, ...,\n",
       "         -1.00000000e+02, -1.00000000e+02, -1.00000000e+02],\n",
       "        [-1.00000000e+02, -1.00000000e+02, -1.00000000e+02, ...,\n",
       "         -1.00000000e+02, -1.00000000e+02, -1.00000000e+02]],\n",
       "\n",
       "       ...,\n",
       "\n",
       "       [[ 1.34705186e-01, -6.94461346e-01,  3.59374911e-01, ...,\n",
       "         -2.76210606e-01,  3.67237687e-01,  6.97497904e-01],\n",
       "        [ 3.22508961e-01, -2.17319787e-01,  4.77378368e-01, ...,\n",
       "          4.66735423e-01,  3.34624946e-01,  2.57671952e-01],\n",
       "        [ 2.85632759e-01, -1.21918485e-01,  5.10318041e-01, ...,\n",
       "          3.47997785e-01,  3.11098158e-01,  2.27520317e-01],\n",
       "        ...,\n",
       "        [-1.00000000e+02, -1.00000000e+02, -1.00000000e+02, ...,\n",
       "         -1.00000000e+02, -1.00000000e+02, -1.00000000e+02],\n",
       "        [-1.00000000e+02, -1.00000000e+02, -1.00000000e+02, ...,\n",
       "         -1.00000000e+02, -1.00000000e+02, -1.00000000e+02],\n",
       "        [-1.00000000e+02, -1.00000000e+02, -1.00000000e+02, ...,\n",
       "         -1.00000000e+02, -1.00000000e+02, -1.00000000e+02]],\n",
       "\n",
       "       [[-1.80745229e-01, -6.80016220e-01,  8.51180971e-01, ...,\n",
       "          2.52924897e-02, -2.25761216e-02,  7.78506935e-01],\n",
       "        [-2.14885965e-01, -8.13281655e-01,  1.26790419e-01, ...,\n",
       "          6.16625488e-01,  1.63080856e-01, -3.12787652e-01],\n",
       "        [-4.69387770e-01, -8.22728693e-01, -9.77170616e-02, ...,\n",
       "          5.81124246e-01, -1.27255216e-01,  1.85469724e-02],\n",
       "        ...,\n",
       "        [-1.00000000e+02, -1.00000000e+02, -1.00000000e+02, ...,\n",
       "         -1.00000000e+02, -1.00000000e+02, -1.00000000e+02],\n",
       "        [-1.00000000e+02, -1.00000000e+02, -1.00000000e+02, ...,\n",
       "         -1.00000000e+02, -1.00000000e+02, -1.00000000e+02],\n",
       "        [-1.00000000e+02, -1.00000000e+02, -1.00000000e+02, ...,\n",
       "         -1.00000000e+02, -1.00000000e+02, -1.00000000e+02]],\n",
       "\n",
       "       [[-3.67826261e-02, -2.77624428e-01, -1.13023892e-01, ...,\n",
       "         -3.83412391e-01,  2.50990778e-01, -6.24620020e-02],\n",
       "        [-2.26500794e-01,  3.06569308e-01,  1.71138823e-01, ...,\n",
       "         -3.77664599e-03,  1.71486780e-01, -2.11621568e-01],\n",
       "        [-2.94627488e-01,  1.98942170e-01,  1.97579220e-01, ...,\n",
       "         -6.10939637e-02,  1.91685259e-01, -6.77538589e-02],\n",
       "        ...,\n",
       "        [-1.00000000e+02, -1.00000000e+02, -1.00000000e+02, ...,\n",
       "         -1.00000000e+02, -1.00000000e+02, -1.00000000e+02],\n",
       "        [-1.00000000e+02, -1.00000000e+02, -1.00000000e+02, ...,\n",
       "         -1.00000000e+02, -1.00000000e+02, -1.00000000e+02],\n",
       "        [-1.00000000e+02, -1.00000000e+02, -1.00000000e+02, ...,\n",
       "         -1.00000000e+02, -1.00000000e+02, -1.00000000e+02]]],\n",
       "      dtype=float32)), label_ids=array([280, 300, 192, ...,  57, 160, 144], dtype=int64), metrics={'test_loss': 1.757096767425537, 'test_f1': 0.4024861880076048, 'test_runtime': 19.3627, 'test_samples_per_second': 126.738, 'test_steps_per_second': 7.953})"
      ]
     },
     "execution_count": 12,
     "metadata": {},
     "output_type": "execute_result"
    }
   ],
   "source": [
    "trainer.predict(test_dataset)"
   ]
  },
  {
   "cell_type": "code",
   "execution_count": null,
   "metadata": {},
   "outputs": [],
   "source": []
  }
 ],
 "metadata": {
  "kernelspec": {
   "display_name": "torch",
   "language": "python",
   "name": "python3"
  },
  "language_info": {
   "codemirror_mode": {
    "name": "ipython",
    "version": 3
   },
   "file_extension": ".py",
   "mimetype": "text/x-python",
   "name": "python",
   "nbconvert_exporter": "python",
   "pygments_lexer": "ipython3",
   "version": "3.8.19"
  }
 },
 "nbformat": 4,
 "nbformat_minor": 2
}
